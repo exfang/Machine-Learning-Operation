{
 "cells": [
  {
   "cell_type": "code",
   "execution_count": 2,
   "metadata": {},
   "outputs": [
    {
     "name": "stdout",
     "output_type": "stream",
     "text": [
      "Process data using data/raw/01_hdb_resale_transactions.csv\n",
      "  block           street_name        town  postal_code    month flat_type  \\\n",
      "0   174   ANG MO KIO AVENUE 4  ANG MO KIO       560174  2015-01    3 ROOM   \n",
      "1   541  ANG MO KIO AVENUE 10  ANG MO KIO       560541  2015-01    3 ROOM   \n",
      "2   163   ANG MO KIO AVENUE 4  ANG MO KIO       560163  2015-01    3 ROOM   \n",
      "3   446  ANG MO KIO AVENUE 10  ANG MO KIO       560446  2015-01    3 ROOM   \n",
      "4   557  ANG MO KIO AVENUE 10  ANG MO KIO       560557  2015-01    3 ROOM   \n",
      "\n",
      "  storey_range  floor_area_sqm      flat_model  lease_commence_date  \\\n",
      "0     07 TO 09            60.0        Improved                 1986   \n",
      "1     01 TO 03            68.0  New Generation                 1981   \n",
      "2     01 TO 03            69.0  New Generation                 1980   \n",
      "3     01 TO 03            68.0  New Generation                 1979   \n",
      "4     07 TO 09            68.0  New Generation                 1980   \n",
      "\n",
      "   resale_price  latitude   longitude      cbd_dist  min_dist_mrt  \n",
      "0      255000.0  1.375097  103.837619  10296.855750   1096.947897  \n",
      "1      275000.0  1.373922  103.855621  10065.227930    847.235690  \n",
      "2      285000.0  1.373552  103.838169  10118.831550   1176.742184  \n",
      "3      290000.0  1.367761  103.855357   9383.300907    682.205473  \n",
      "4      290000.0  1.371626  103.857736   9825.917255    953.047695  \n"
     ]
    }
   ],
   "source": [
    "# replace your read_csv with this codes\n",
    "from hydra import initialize, compose, utils\n",
    "from omegaconf import OmegaConf\n",
    "import pandas as pd\n",
    "import os\n",
    "\n",
    "current_directory = os.getcwd()\n",
    "\n",
    "with initialize(version_base=None, config_path=\"../../config/\"):\n",
    "    cfg = compose(config_name='main.yaml')\n",
    "    print(f\"Process data using {cfg.data.raw.hdb}\")\n",
    "    csv_file_path = os.path.join(current_directory, \"../../\", cfg.data.raw.hdb)\n",
    "    df = pd.read_csv(csv_file_path)\n",
    "    print(df.head())"
   ]
  },
  {
   "cell_type": "code",
   "execution_count": null,
   "metadata": {},
   "outputs": [],
   "source": []
  }
 ],
 "metadata": {
  "kernelspec": {
   "display_name": "venv",
   "language": "python",
   "name": "venv"
  },
  "language_info": {
   "codemirror_mode": {
    "name": "ipython",
    "version": 3
   },
   "file_extension": ".py",
   "mimetype": "text/x-python",
   "name": "python",
   "nbconvert_exporter": "python",
   "pygments_lexer": "ipython3",
   "version": "3.8.2"
  },
  "orig_nbformat": 4
 },
 "nbformat": 4,
 "nbformat_minor": 2
}
